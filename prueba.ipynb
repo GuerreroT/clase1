{
 "cells": [
  {
   "cell_type": "markdown",
   "metadata": {},
   "source": [
    "1.- Desarrolle una aplicación que calcule el factorial de un numero entero introducido por \n",
    "teclado "
   ]
  },
  {
   "cell_type": "code",
   "execution_count": 9,
   "metadata": {},
   "outputs": [
    {
     "name": "stdout",
     "output_type": "stream",
     "text": [
      "El factorial de 6 es: 720\n"
     ]
    }
   ],
   "source": [
    "def calcularFactorial(n):\n",
    "    if n == 0 or n == 1:\n",
    "        return 1\n",
    "    else:\n",
    "        return n * calcularFactorial(n - 1)\n",
    "\n",
    "n = int(input(\"Ingrese un numero entero para calcular su factorial: \"))\n",
    "resultado = calcularFactorial(n)\n",
    "print(f\"El factorial de {n} es: {resultado}\")\n"
   ]
  },
  {
   "cell_type": "markdown",
   "metadata": {},
   "source": [
    "2.- Desarrolle una aplicación que determine si un numero introducido por teclado es primo o no"
   ]
  },
  {
   "cell_type": "code",
   "execution_count": 11,
   "metadata": {},
   "outputs": [
    {
     "name": "stdout",
     "output_type": "stream",
     "text": [
      "4 no es un número primo.\n"
     ]
    }
   ],
   "source": [
    "def esPrimo(n):\n",
    "    if n < 2:\n",
    "        return False\n",
    "    for i in range(2, int(n**0.5) + 1):\n",
    "        if n % i == 0:\n",
    "            return False\n",
    "    return True\n",
    "n = int(input(\"Ingrese un numero entero para verificar si es primo: \"))\n",
    "if esPrimo(n):\n",
    "    print(f\"{n} es un numero primo.\")\n",
    "else:\n",
    "    print(f\"{n} no es un número primo. \")"
   ]
  },
  {
   "cell_type": "markdown",
   "metadata": {},
   "source": [
    "3.- Desarrolle una aplicacion que permita ingresar diferentes  numeros por teclado con un limite definido inicialmente (no menor a 3 numeros )y determine cual de ellos  es mayor y el menor."
   ]
  },
  {
   "cell_type": "code",
   "execution_count": 12,
   "metadata": {},
   "outputs": [
    {
     "name": "stdout",
     "output_type": "stream",
     "text": [
      "El numero mayor es: 78\n",
      "El numero menor es: 5\n"
     ]
    }
   ],
   "source": [
    "limite = int(input(\"Ingrese el limite de numeros a comparar (no menor a 3): \"))\n",
    "while limite < 3:\n",
    "    limite = int(input(\"Ingrese un limite valido (no menor a 3): \"))\n",
    "numeros = [int(input(f\"Ingrese el numero #{i + 1}: \")) for i in range(limite)]\n",
    "mayor = max(numeros)\n",
    "menor = min(numeros)\n",
    "print(f\"El numero mayor es: {mayor}\")\n",
    "print(f\"El numero menor es: {menor}\")"
   ]
  },
  {
   "cell_type": "markdown",
   "metadata": {},
   "source": [
    "4.- Desarrolle una aplicacion que permita introducir 7 numeros por teclado y determine cual de ellos se repite mas veces y cuantas"
   ]
  },
  {
   "cell_type": "code",
   "execution_count": 13,
   "metadata": {},
   "outputs": [
    {
     "name": "stdout",
     "output_type": "stream",
     "text": [
      "El numero que más se repite es 5, se repite 3 veces.\n"
     ]
    }
   ],
   "source": [
    "numeros = [int(input(f\"Ingrese el numero #{i + 1}: \")) for i in range(9)]\n",
    "frecuencias = {}\n",
    "for n in numeros:\n",
    "    if n in frecuencias:\n",
    "        frecuencias[n] += 1\n",
    "    else:\n",
    "        frecuencias[n] = 1\n",
    "numeroMasRepetido = max(frecuencias, key=frecuencias.get)\n",
    "vecesRepetido = frecuencias[numeroMasRepetido]\n",
    "print(f\"El numero que más se repite es {numeroMasRepetido}, se repite {vecesRepetido} veces.\")"
   ]
  },
  {
   "cell_type": "markdown",
   "metadata": {},
   "source": [
    "5.- Desarrolla una aplicacion que ordene numeros a través del metodo burbuja"
   ]
  },
  {
   "cell_type": "code",
   "execution_count": 1,
   "metadata": {},
   "outputs": [
    {
     "name": "stdout",
     "output_type": "stream",
     "text": [
      "Lista ordenada: [1, 4, 4, 4, 5, 5, 5]\n"
     ]
    }
   ],
   "source": [
    "def ordenar_burbuja(lista):\n",
    "    n = len(lista)\n",
    "    for i in range(n):\n",
    "        for j in range(0, n - i - 1):\n",
    "            if lista[j] > lista[j + 1]:\n",
    "                lista[j], lista[j + 1] = lista[j + 1], lista[j]\n",
    "numeros = [int(input(f\"Ingrese el número #{i + 1}: \")) for i in range(7)]\n",
    "ordenar_burbuja(numeros)\n",
    "print(\"Lista ordenada:\", numeros)"
   ]
  }
 ],
 "metadata": {
  "kernelspec": {
   "display_name": "env-clase1",
   "language": "python",
   "name": "python3"
  },
  "language_info": {
   "codemirror_mode": {
    "name": "ipython",
    "version": 3
   },
   "file_extension": ".py",
   "mimetype": "text/x-python",
   "name": "python",
   "nbconvert_exporter": "python",
   "pygments_lexer": "ipython3",
   "version": "3.12.1"
  }
 },
 "nbformat": 4,
 "nbformat_minor": 2
}
